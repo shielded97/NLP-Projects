{
  "nbformat": 4,
  "nbformat_minor": 0,
  "metadata": {
    "colab": {
      "name": "FinalPeg-Bart.ipynb",
      "provenance": [],
      "collapsed_sections": [],
      "machine_shape": "hm"
    },
    "kernelspec": {
      "display_name": "Python 3",
      "name": "python3"
    },
    "language_info": {
      "name": "python"
    },
    "widgets": {
      "application/vnd.jupyter.widget-state+json": {
        "18155d843eb84fd895153bea5ff4cf36": {
          "model_module": "@jupyter-widgets/controls",
          "model_name": "VBoxModel",
          "model_module_version": "1.5.0",
          "state": {
            "_view_name": "VBoxView",
            "_dom_classes": [],
            "_model_name": "VBoxModel",
            "_view_module": "@jupyter-widgets/controls",
            "_model_module_version": "1.5.0",
            "_view_count": null,
            "_view_module_version": "1.5.0",
            "box_style": "",
            "layout": "IPY_MODEL_e50361c9831f4a1ca3df0012605b5a9b",
            "_model_module": "@jupyter-widgets/controls",
            "children": [
              "IPY_MODEL_89ccf5722d3f4748a9200390d0351133",
              "IPY_MODEL_516606a86b0a467c828bdc4984571ec9"
            ]
          }
        },
        "e50361c9831f4a1ca3df0012605b5a9b": {
          "model_module": "@jupyter-widgets/base",
          "model_name": "LayoutModel",
          "model_module_version": "1.2.0",
          "state": {
            "_view_name": "LayoutView",
            "grid_template_rows": null,
            "right": null,
            "justify_content": null,
            "_view_module": "@jupyter-widgets/base",
            "overflow": null,
            "_model_module_version": "1.2.0",
            "_view_count": null,
            "flex_flow": null,
            "width": null,
            "min_width": null,
            "border": null,
            "align_items": null,
            "bottom": null,
            "_model_module": "@jupyter-widgets/base",
            "top": null,
            "grid_column": null,
            "overflow_y": null,
            "overflow_x": null,
            "grid_auto_flow": null,
            "grid_area": null,
            "grid_template_columns": null,
            "flex": null,
            "_model_name": "LayoutModel",
            "justify_items": null,
            "grid_row": null,
            "max_height": null,
            "align_content": null,
            "visibility": null,
            "align_self": null,
            "height": null,
            "min_height": null,
            "padding": null,
            "grid_auto_rows": null,
            "grid_gap": null,
            "max_width": null,
            "order": null,
            "_view_module_version": "1.2.0",
            "grid_template_areas": null,
            "object_position": null,
            "object_fit": null,
            "grid_auto_columns": null,
            "margin": null,
            "display": null,
            "left": null
          }
        },
        "89ccf5722d3f4748a9200390d0351133": {
          "model_module": "@jupyter-widgets/controls",
          "model_name": "LabelModel",
          "model_module_version": "1.5.0",
          "state": {
            "_view_name": "LabelView",
            "style": "IPY_MODEL_ba3269eca88a4168ac3ddb3ac7967ae9",
            "_dom_classes": [],
            "description": "",
            "_model_name": "LabelModel",
            "placeholder": "​",
            "_view_module": "@jupyter-widgets/controls",
            "_model_module_version": "1.5.0",
            "value": " 0.01MB of 0.01MB uploaded (0.00MB deduped)\r",
            "_view_count": null,
            "_view_module_version": "1.5.0",
            "description_tooltip": null,
            "_model_module": "@jupyter-widgets/controls",
            "layout": "IPY_MODEL_e18b5a2124a947fba13f573ab4b56a90"
          }
        },
        "516606a86b0a467c828bdc4984571ec9": {
          "model_module": "@jupyter-widgets/controls",
          "model_name": "FloatProgressModel",
          "model_module_version": "1.5.0",
          "state": {
            "_view_name": "ProgressView",
            "style": "IPY_MODEL_09a6ec86e7154c3d91cf5644c9a1ef7c",
            "_dom_classes": [],
            "description": "",
            "_model_name": "FloatProgressModel",
            "bar_style": "",
            "max": 1,
            "_view_module": "@jupyter-widgets/controls",
            "_model_module_version": "1.5.0",
            "value": 1,
            "_view_count": null,
            "_view_module_version": "1.5.0",
            "orientation": "horizontal",
            "min": 0,
            "description_tooltip": null,
            "_model_module": "@jupyter-widgets/controls",
            "layout": "IPY_MODEL_59649f572b694491b75c6069898d2efb"
          }
        },
        "ba3269eca88a4168ac3ddb3ac7967ae9": {
          "model_module": "@jupyter-widgets/controls",
          "model_name": "DescriptionStyleModel",
          "model_module_version": "1.5.0",
          "state": {
            "_view_name": "StyleView",
            "_model_name": "DescriptionStyleModel",
            "description_width": "",
            "_view_module": "@jupyter-widgets/base",
            "_model_module_version": "1.5.0",
            "_view_count": null,
            "_view_module_version": "1.2.0",
            "_model_module": "@jupyter-widgets/controls"
          }
        },
        "e18b5a2124a947fba13f573ab4b56a90": {
          "model_module": "@jupyter-widgets/base",
          "model_name": "LayoutModel",
          "model_module_version": "1.2.0",
          "state": {
            "_view_name": "LayoutView",
            "grid_template_rows": null,
            "right": null,
            "justify_content": null,
            "_view_module": "@jupyter-widgets/base",
            "overflow": null,
            "_model_module_version": "1.2.0",
            "_view_count": null,
            "flex_flow": null,
            "width": null,
            "min_width": null,
            "border": null,
            "align_items": null,
            "bottom": null,
            "_model_module": "@jupyter-widgets/base",
            "top": null,
            "grid_column": null,
            "overflow_y": null,
            "overflow_x": null,
            "grid_auto_flow": null,
            "grid_area": null,
            "grid_template_columns": null,
            "flex": null,
            "_model_name": "LayoutModel",
            "justify_items": null,
            "grid_row": null,
            "max_height": null,
            "align_content": null,
            "visibility": null,
            "align_self": null,
            "height": null,
            "min_height": null,
            "padding": null,
            "grid_auto_rows": null,
            "grid_gap": null,
            "max_width": null,
            "order": null,
            "_view_module_version": "1.2.0",
            "grid_template_areas": null,
            "object_position": null,
            "object_fit": null,
            "grid_auto_columns": null,
            "margin": null,
            "display": null,
            "left": null
          }
        },
        "09a6ec86e7154c3d91cf5644c9a1ef7c": {
          "model_module": "@jupyter-widgets/controls",
          "model_name": "ProgressStyleModel",
          "model_module_version": "1.5.0",
          "state": {
            "_view_name": "StyleView",
            "_model_name": "ProgressStyleModel",
            "description_width": "",
            "_view_module": "@jupyter-widgets/base",
            "_model_module_version": "1.5.0",
            "_view_count": null,
            "_view_module_version": "1.2.0",
            "bar_color": null,
            "_model_module": "@jupyter-widgets/controls"
          }
        },
        "59649f572b694491b75c6069898d2efb": {
          "model_module": "@jupyter-widgets/base",
          "model_name": "LayoutModel",
          "model_module_version": "1.2.0",
          "state": {
            "_view_name": "LayoutView",
            "grid_template_rows": null,
            "right": null,
            "justify_content": null,
            "_view_module": "@jupyter-widgets/base",
            "overflow": null,
            "_model_module_version": "1.2.0",
            "_view_count": null,
            "flex_flow": null,
            "width": null,
            "min_width": null,
            "border": null,
            "align_items": null,
            "bottom": null,
            "_model_module": "@jupyter-widgets/base",
            "top": null,
            "grid_column": null,
            "overflow_y": null,
            "overflow_x": null,
            "grid_auto_flow": null,
            "grid_area": null,
            "grid_template_columns": null,
            "flex": null,
            "_model_name": "LayoutModel",
            "justify_items": null,
            "grid_row": null,
            "max_height": null,
            "align_content": null,
            "visibility": null,
            "align_self": null,
            "height": null,
            "min_height": null,
            "padding": null,
            "grid_auto_rows": null,
            "grid_gap": null,
            "max_width": null,
            "order": null,
            "_view_module_version": "1.2.0",
            "grid_template_areas": null,
            "object_position": null,
            "object_fit": null,
            "grid_auto_columns": null,
            "margin": null,
            "display": null,
            "left": null
          }
        },
        "e739f8b8ae94471c84955824218af185": {
          "model_module": "@jupyter-widgets/controls",
          "model_name": "VBoxModel",
          "model_module_version": "1.5.0",
          "state": {
            "_view_name": "VBoxView",
            "_dom_classes": [],
            "_model_name": "VBoxModel",
            "_view_module": "@jupyter-widgets/controls",
            "_model_module_version": "1.5.0",
            "_view_count": null,
            "_view_module_version": "1.5.0",
            "box_style": "",
            "layout": "IPY_MODEL_5870b9f482fa4b12abd2ca0801479981",
            "_model_module": "@jupyter-widgets/controls",
            "children": [
              "IPY_MODEL_54ce955bcfed4cdbab99eb80b784c028",
              "IPY_MODEL_fb01ccfd0cdf457cbc696c91261e0caa"
            ]
          }
        },
        "5870b9f482fa4b12abd2ca0801479981": {
          "model_module": "@jupyter-widgets/base",
          "model_name": "LayoutModel",
          "model_module_version": "1.2.0",
          "state": {
            "_view_name": "LayoutView",
            "grid_template_rows": null,
            "right": null,
            "justify_content": null,
            "_view_module": "@jupyter-widgets/base",
            "overflow": null,
            "_model_module_version": "1.2.0",
            "_view_count": null,
            "flex_flow": null,
            "width": null,
            "min_width": null,
            "border": null,
            "align_items": null,
            "bottom": null,
            "_model_module": "@jupyter-widgets/base",
            "top": null,
            "grid_column": null,
            "overflow_y": null,
            "overflow_x": null,
            "grid_auto_flow": null,
            "grid_area": null,
            "grid_template_columns": null,
            "flex": null,
            "_model_name": "LayoutModel",
            "justify_items": null,
            "grid_row": null,
            "max_height": null,
            "align_content": null,
            "visibility": null,
            "align_self": null,
            "height": null,
            "min_height": null,
            "padding": null,
            "grid_auto_rows": null,
            "grid_gap": null,
            "max_width": null,
            "order": null,
            "_view_module_version": "1.2.0",
            "grid_template_areas": null,
            "object_position": null,
            "object_fit": null,
            "grid_auto_columns": null,
            "margin": null,
            "display": null,
            "left": null
          }
        },
        "54ce955bcfed4cdbab99eb80b784c028": {
          "model_module": "@jupyter-widgets/controls",
          "model_name": "LabelModel",
          "model_module_version": "1.5.0",
          "state": {
            "_view_name": "LabelView",
            "style": "IPY_MODEL_a7888a34dc7341c48c13d74cf77e24ed",
            "_dom_classes": [],
            "description": "",
            "_model_name": "LabelModel",
            "placeholder": "​",
            "_view_module": "@jupyter-widgets/controls",
            "_model_module_version": "1.5.0",
            "value": " 0.02MB of 0.02MB uploaded (0.00MB deduped)\r",
            "_view_count": null,
            "_view_module_version": "1.5.0",
            "description_tooltip": null,
            "_model_module": "@jupyter-widgets/controls",
            "layout": "IPY_MODEL_2e581b3421d14637ae9b0e8e779de0e0"
          }
        },
        "fb01ccfd0cdf457cbc696c91261e0caa": {
          "model_module": "@jupyter-widgets/controls",
          "model_name": "FloatProgressModel",
          "model_module_version": "1.5.0",
          "state": {
            "_view_name": "ProgressView",
            "style": "IPY_MODEL_879e2578596144de93157121e675b00e",
            "_dom_classes": [],
            "description": "",
            "_model_name": "FloatProgressModel",
            "bar_style": "",
            "max": 1,
            "_view_module": "@jupyter-widgets/controls",
            "_model_module_version": "1.5.0",
            "value": 1,
            "_view_count": null,
            "_view_module_version": "1.5.0",
            "orientation": "horizontal",
            "min": 0,
            "description_tooltip": null,
            "_model_module": "@jupyter-widgets/controls",
            "layout": "IPY_MODEL_d021c6e0ea5f4dd8a795ebaf29a0a1ee"
          }
        },
        "a7888a34dc7341c48c13d74cf77e24ed": {
          "model_module": "@jupyter-widgets/controls",
          "model_name": "DescriptionStyleModel",
          "model_module_version": "1.5.0",
          "state": {
            "_view_name": "StyleView",
            "_model_name": "DescriptionStyleModel",
            "description_width": "",
            "_view_module": "@jupyter-widgets/base",
            "_model_module_version": "1.5.0",
            "_view_count": null,
            "_view_module_version": "1.2.0",
            "_model_module": "@jupyter-widgets/controls"
          }
        },
        "2e581b3421d14637ae9b0e8e779de0e0": {
          "model_module": "@jupyter-widgets/base",
          "model_name": "LayoutModel",
          "model_module_version": "1.2.0",
          "state": {
            "_view_name": "LayoutView",
            "grid_template_rows": null,
            "right": null,
            "justify_content": null,
            "_view_module": "@jupyter-widgets/base",
            "overflow": null,
            "_model_module_version": "1.2.0",
            "_view_count": null,
            "flex_flow": null,
            "width": null,
            "min_width": null,
            "border": null,
            "align_items": null,
            "bottom": null,
            "_model_module": "@jupyter-widgets/base",
            "top": null,
            "grid_column": null,
            "overflow_y": null,
            "overflow_x": null,
            "grid_auto_flow": null,
            "grid_area": null,
            "grid_template_columns": null,
            "flex": null,
            "_model_name": "LayoutModel",
            "justify_items": null,
            "grid_row": null,
            "max_height": null,
            "align_content": null,
            "visibility": null,
            "align_self": null,
            "height": null,
            "min_height": null,
            "padding": null,
            "grid_auto_rows": null,
            "grid_gap": null,
            "max_width": null,
            "order": null,
            "_view_module_version": "1.2.0",
            "grid_template_areas": null,
            "object_position": null,
            "object_fit": null,
            "grid_auto_columns": null,
            "margin": null,
            "display": null,
            "left": null
          }
        },
        "879e2578596144de93157121e675b00e": {
          "model_module": "@jupyter-widgets/controls",
          "model_name": "ProgressStyleModel",
          "model_module_version": "1.5.0",
          "state": {
            "_view_name": "StyleView",
            "_model_name": "ProgressStyleModel",
            "description_width": "",
            "_view_module": "@jupyter-widgets/base",
            "_model_module_version": "1.5.0",
            "_view_count": null,
            "_view_module_version": "1.2.0",
            "bar_color": null,
            "_model_module": "@jupyter-widgets/controls"
          }
        },
        "d021c6e0ea5f4dd8a795ebaf29a0a1ee": {
          "model_module": "@jupyter-widgets/base",
          "model_name": "LayoutModel",
          "model_module_version": "1.2.0",
          "state": {
            "_view_name": "LayoutView",
            "grid_template_rows": null,
            "right": null,
            "justify_content": null,
            "_view_module": "@jupyter-widgets/base",
            "overflow": null,
            "_model_module_version": "1.2.0",
            "_view_count": null,
            "flex_flow": null,
            "width": null,
            "min_width": null,
            "border": null,
            "align_items": null,
            "bottom": null,
            "_model_module": "@jupyter-widgets/base",
            "top": null,
            "grid_column": null,
            "overflow_y": null,
            "overflow_x": null,
            "grid_auto_flow": null,
            "grid_area": null,
            "grid_template_columns": null,
            "flex": null,
            "_model_name": "LayoutModel",
            "justify_items": null,
            "grid_row": null,
            "max_height": null,
            "align_content": null,
            "visibility": null,
            "align_self": null,
            "height": null,
            "min_height": null,
            "padding": null,
            "grid_auto_rows": null,
            "grid_gap": null,
            "max_width": null,
            "order": null,
            "_view_module_version": "1.2.0",
            "grid_template_areas": null,
            "object_position": null,
            "object_fit": null,
            "grid_auto_columns": null,
            "margin": null,
            "display": null,
            "left": null
          }
        }
      }
    },
    "accelerator": "GPU"
  },
  "cells": [
    {
      "cell_type": "code",
      "metadata": {
        "id": "rTQPhHcxZmi2"
      },
      "source": [
        "! pip install transformers\n",
        "! pip install datasets\n",
        "! pip install sentencepiece\n",
        "! pip install rouge_score\n",
        "! pip install wandb"
      ],
      "execution_count": null,
      "outputs": []
    },
    {
      "cell_type": "code",
      "metadata": {
        "colab": {
          "base_uri": "https://localhost:8080/"
        },
        "id": "1lUbCy82ZtUd",
        "outputId": "29f7c4b9-4ae9-4a71-d36d-486c026f89b1"
      },
      "source": [
        "# Natural Language Processing \n",
        "# Assignment 3\n",
        "# Implementation of Pegasus and DistilBart\n",
        "# Modeled from https://colab.research.google.com/github/\n",
        "# elsanns/xai-nlp-notebooks/blob/master/fine_tune_bart_summarization_\n",
        "# two_langs.ipynb#scrollTo=ClRTrG2ETUm3\n",
        "\n",
        "# run in Colab\n",
        "\n",
        "import torch\n",
        "import numpy as np\n",
        "import datasets\n",
        "import nltk\n",
        "from datetime import datetime\n",
        "from transformers import AutoModelForSeq2SeqLM, AutoTokenizer, \\\n",
        "\tSeq2SeqTrainingArguments, Seq2SeqTrainer, DataCollatorForSeq2Seq\n",
        "from google.colab import drive\n",
        "drive.mount(\"/content/gdrive\")\n"
      ],
      "execution_count": null,
      "outputs": [
        {
          "output_type": "stream",
          "name": "stdout",
          "text": [
            "Mounted at /content/gdrive\n"
          ]
        }
      ]
    },
    {
      "cell_type": "code",
      "metadata": {
        "colab": {
          "base_uri": "https://localhost:8080/"
        },
        "id": "YAwZcQPZZ5nh",
        "outputId": "0ec1889b-78ff-49cf-ccfd-05aaecbcfec8"
      },
      "source": [
        "#---------------------------------\n",
        "# Initialize variables and \n",
        "# start Wandb utilization\n",
        "#---------------------------------\n",
        "import wandb\n",
        "wandb.login()\n",
        "\n",
        "# if loading pretrained model, set from_scratch to 0\n",
        "# to train from scratch, set to 1\n",
        "from_scratch = 0\n",
        "language = \"english\"\n",
        "model_name = \"sshleifer/distilbart-xsum-12-3\" # or \"google/pegasus-cnn_dailymail\"\n",
        "encoder_max_length = 256\n",
        "decoder_max_length = 64\n",
        "nltk.download(\"punkt\", quiet=True)\n",
        "metric = datasets.load_metric(\"rouge\")\n",
        "data = datasets.load_dataset('csv', data_files=['/content/gdrive/My Drive/Auburn/NLP/cnn_dailymail_test_assignmemt3.csv', \\\n",
        "                                          '/content/gdrive/My Drive/Auburn/NLP/cnn_dailymail_train_assignmemt3.csv' \\\n",
        "                                          ], split=\"train[:3000]\")\n",
        "\n",
        "#---------------------------------\n",
        "# Function Definitions\n",
        "#---------------------------------\n",
        "\n",
        "# returns a dictionary consisting of article and highlights entries\n",
        "def build_dict(example):\n",
        "  article = []\n",
        "  highlights = []\n",
        "  for sample in zip(example[\"article\"], example[\"highlights\"]):\n",
        "    if len(sample[0]) > 0:\n",
        "      article.append(sample[0])\n",
        "      highlights.append(sample[1])\n",
        "  return {\"article\": article, \"highlights\": highlights}\n",
        "\n",
        "# preprocesses/prepares data for use in batches\n",
        "def batch_tokenize_preprocess(batch, tokenizer, max_source_length, max_target_length):\n",
        "  source, target = batch[\"article\"], batch[\"highlights\"]\n",
        "  source_tokenized = tokenizer(source, padding=\"max_length\", truncation=True, max_length=max_source_length)\n",
        "  target_tokenized = tokenizer(target, padding=\"max_length\", truncation=True, max_length=max_target_length)\n",
        "  batch = dict()\n",
        "  for key, value in source_tokenized.items():\n",
        "    batch[key] = value\n",
        "  # handle padding\n",
        "  batch[\"labels\"] = [[-100 if token == tokenizer.pad_token_id else token for token in l] for l in target_tokenized[\"input_ids\"]]\n",
        "  return batch\n",
        "\n",
        "# prepare text to be human-readable\n",
        "def postprocess_text(predicates, labels):\n",
        "  predicates = [pred.strip() for pred in predicates]\n",
        "  labels = [label.strip() for label in labels]\n",
        "  predicates = [\"\\n\".join(nltk.sent_tokenize(pred)) for pred in predicates]\n",
        "  labels = [\"\\n\".join(nltk.sent_tokenize(label)) for label in labels]\n",
        "  return predicates, labels\n",
        "\n",
        "# get rouge ready\n",
        "def compute_metrics(eval_predicates):\n",
        "  predicates, labels = eval_predicates\n",
        "  if isinstance(predicates, tuple):\n",
        "      predicates = predicates[0]\n",
        "  decoded_predicates = tokenizer.batch_decode(predicates, skip_special_tokens=True)\n",
        "  # handle the -100 tokens\n",
        "  labels = np.where(labels != -100, labels, tokenizer.pad_token_id)\n",
        "  decoded_labels = tokenizer.batch_decode(labels, skip_special_tokens=True)\n",
        "  decoded_predicates, decoded_labels = postprocess_text(decoded_predicates, decoded_labels)\n",
        "  result = metric.compute(predictions=decoded_predicates, references=decoded_labels, \n",
        "                          rouge_types=[\"rouge1\", \"rouge2\", \"rouge3\", \"rougeL\", \"rougeLsum\"], use_stemmer=True)\n",
        "  # get rouge results\n",
        "  result = {key: value.mid.fmeasure * 100.0 for key, value in result.items()}\n",
        "  prediction_lengths = [np.count_nonzero(predicate != tokenizer.pad_token_id) for predicate in predicates]\n",
        "  result[\"gen_len\"] = np.mean(prediction_lengths)\n",
        "  result = {key: round(value, 5) for key, value in result.items()}\n",
        "  return result"
      ],
      "execution_count": null,
      "outputs": [
        {
          "output_type": "stream",
          "name": "stderr",
          "text": [
            "Using custom data configuration default-959af8ed08faccd5\n",
            "Reusing dataset csv (/root/.cache/huggingface/datasets/csv/default-959af8ed08faccd5/0.0.0/9144e0a4e8435090117cea53e6c7537173ef2304525df4a077c435d8ee7828ff)\n"
          ]
        }
      ]
    },
    {
      "cell_type": "code",
      "metadata": {
        "id": "UWQ1G0wFaO4W"
      },
      "source": [
        "#---------------------------------\n",
        "# Build dataset and call model\n",
        "#---------------------------------\n",
        "dataset = data.map(build_dict, batched=True, remove_columns=[\"Unnamed: 0\"])\n",
        "\n",
        "train_data_txt, validation_data_txt = dataset.train_test_split(test_size=0.18).values()\n",
        "\n",
        "# If training from scratch\n",
        "if from_scratch == 1:\n",
        "  model = AutoModelForSeq2SeqLM.from_pretrained(model_name)\n",
        "  tokenizer = AutoTokenizer.from_pretrained(model_name)\n",
        "else: \n",
        "  # Replace with whatever checkpoint you want to use\n",
        "  model = AutoModelForSeq2SeqLM.from_pretrained('/content/gdrive/My Drive/Auburn/NLP/results/checkpoint-500',local_files_only=True)\n",
        "  tokenizer = AutoTokenizer.from_pretrained('/content/gdrive/My Drive/Auburn/NLP/results/checkpoint-500',local_files_only=True)\n",
        "\n",
        "train_data = train_data_txt.map(lambda batch: batch_tokenize_preprocess(batch, tokenizer,\n",
        "  encoder_max_length, decoder_max_length), batched=True, remove_columns=train_data_txt.column_names)\n",
        "\n",
        "validation_data = validation_data_txt.map(lambda batch: batch_tokenize_preprocess( \n",
        "  batch, tokenizer, encoder_max_length, decoder_max_length), batched=True, \n",
        "  remove_columns=validation_data_txt.column_names)"
      ],
      "execution_count": null,
      "outputs": []
    },
    {
      "cell_type": "code",
      "metadata": {
        "colab": {
          "base_uri": "https://localhost:8080/",
          "height": 230,
          "referenced_widgets": [
            "18155d843eb84fd895153bea5ff4cf36",
            "e50361c9831f4a1ca3df0012605b5a9b",
            "89ccf5722d3f4748a9200390d0351133",
            "516606a86b0a467c828bdc4984571ec9",
            "ba3269eca88a4168ac3ddb3ac7967ae9",
            "e18b5a2124a947fba13f573ab4b56a90",
            "09a6ec86e7154c3d91cf5644c9a1ef7c",
            "59649f572b694491b75c6069898d2efb"
          ]
        },
        "id": "U7l6_NETatp7",
        "outputId": "dbdcaa02-71e2-4e40-ee1c-12b4c162f48c"
      },
      "source": [
        "#---------------------------------\n",
        "# Training Parameters\n",
        "#---------------------------------\n",
        "\n",
        "training_args = Seq2SeqTrainingArguments(\n",
        "  output_dir=\"results\",\n",
        "  num_train_epochs=1,\n",
        "  do_train=True,\n",
        "  do_eval=True,\n",
        "  per_device_train_batch_size=4,\n",
        "  per_device_eval_batch_size=4,\n",
        "  warmup_steps=500,\n",
        "  weight_decay=0.1,\n",
        "  label_smoothing_factor=0.1,\n",
        "  predict_with_generate=True,\n",
        "  logging_dir=\"logs\",\n",
        "  logging_steps=50,\n",
        "  save_total_limit=3,\n",
        ")\n",
        "\n",
        "data_collator = DataCollatorForSeq2Seq(tokenizer, model=model)\n",
        "\n",
        "trainer = Seq2SeqTrainer(\n",
        "  model=model,\n",
        "  args=training_args,\n",
        "  data_collator=data_collator,\n",
        "  train_dataset=train_data,\n",
        "  eval_dataset=validation_data,\n",
        "  tokenizer=tokenizer,\n",
        "  compute_metrics=compute_metrics,\n",
        ")\n",
        "\n",
        "# Prepare wandB run\n",
        "wandb_inst = wandb.init(project=\"Bart_CNN_Dailymail\", config={\"per_device_train_batch_size\": training_args.per_device_train_batch_size,\n",
        "    \"learning_rate\": training_args.learning_rate, \"dataset\": \"CNN_Dailymail \"})\n",
        "now = datetime.now()\n",
        "current_time = now.strftime(\"%H%M%S\")\n",
        "wandb_inst.name = \"sesh_\" + current_time"
      ],
      "execution_count": null,
      "outputs": [
        {
          "output_type": "stream",
          "name": "stderr",
          "text": [
            "PyTorch: setting up devices\n",
            "The default value for the training argument `--report_to` will change in v5 (from all installed integrations to none). In v5, you will need to use `--report_to all` to get the same behavior as now. You should start updating your code and make this info disappear :-).\n"
          ]
        },
        {
          "output_type": "display_data",
          "data": {
            "text/html": [
              "Finishing last run (ID:19nkrmpj) before initializing another..."
            ],
            "text/plain": [
              "<IPython.core.display.HTML object>"
            ]
          },
          "metadata": {}
        },
        {
          "output_type": "display_data",
          "data": {
            "text/html": [
              "<br/>Waiting for W&B process to finish, PID 813... <strong style=\"color:green\">(success).</strong>"
            ],
            "text/plain": [
              "<IPython.core.display.HTML object>"
            ]
          },
          "metadata": {}
        },
        {
          "output_type": "display_data",
          "data": {
            "application/vnd.jupyter.widget-view+json": {
              "model_id": "18155d843eb84fd895153bea5ff4cf36",
              "version_minor": 0,
              "version_major": 2
            },
            "text/plain": [
              "VBox(children=(Label(value=' 0.00MB of 0.00MB uploaded (0.00MB deduped)\\r'), FloatProgress(value=1.0, max=1.0)…"
            ]
          },
          "metadata": {}
        },
        {
          "output_type": "display_data",
          "data": {
            "text/html": [
              "<style>\n",
              "    table.wandb td:nth-child(1) { padding: 0 10px; text-align: right }\n",
              "    .wandb-row { display: flex; flex-direction: row; flex-wrap: wrap; width: 100% }\n",
              "    .wandb-col { display: flex; flex-direction: column; flex-basis: 100%; flex: 1; padding: 10px; }\n",
              "    </style>\n",
              "<div class=\"wandb-row\"><div class=\"wandb-col\">\n",
              "</div><div class=\"wandb-col\">\n",
              "</div></div>\n",
              "Synced 5 W&B file(s), 0 media file(s), 0 artifact file(s) and 0 other file(s)\n",
              "<br/>Synced <strong style=\"color:#cdcd00\">playful-jazz-9</strong>: <a href=\"https://wandb.ai/shielded97/bart_CNN_Dailymail/runs/19nkrmpj\" target=\"_blank\">https://wandb.ai/shielded97/bart_CNN_Dailymail/runs/19nkrmpj</a><br/>\n",
              "Find logs at: <code>./wandb/run-20211001_034536-19nkrmpj/logs</code><br/>\n"
            ],
            "text/plain": [
              "<IPython.core.display.HTML object>"
            ]
          },
          "metadata": {}
        },
        {
          "output_type": "display_data",
          "data": {
            "text/html": [
              "Successfully finished last run (ID:19nkrmpj). Initializing new run:<br/>"
            ],
            "text/plain": [
              "<IPython.core.display.HTML object>"
            ]
          },
          "metadata": {}
        },
        {
          "output_type": "display_data",
          "data": {
            "text/html": [
              "\n",
              "                    Syncing run <strong><a href=\"https://wandb.ai/shielded97/bart_CNN_Dailymail/runs/3h4v5slz\" target=\"_blank\">absurd-meadow-10</a></strong> to <a href=\"https://wandb.ai/shielded97/bart_CNN_Dailymail\" target=\"_blank\">Weights & Biases</a> (<a href=\"https://docs.wandb.com/integrations/jupyter.html\" target=\"_blank\">docs</a>).<br/>\n",
              "\n",
              "                "
            ],
            "text/plain": [
              "<IPython.core.display.HTML object>"
            ]
          },
          "metadata": {}
        }
      ]
    },
    {
      "cell_type": "code",
      "metadata": {
        "colab": {
          "base_uri": "https://localhost:8080/",
          "height": 694,
          "referenced_widgets": [
            "e739f8b8ae94471c84955824218af185",
            "5870b9f482fa4b12abd2ca0801479981",
            "54ce955bcfed4cdbab99eb80b784c028",
            "fb01ccfd0cdf457cbc696c91261e0caa",
            "a7888a34dc7341c48c13d74cf77e24ed",
            "2e581b3421d14637ae9b0e8e779de0e0",
            "879e2578596144de93157121e675b00e",
            "d021c6e0ea5f4dd8a795ebaf29a0a1ee"
          ]
        },
        "id": "r_maFLMga4TZ",
        "outputId": "a9e845a0-4d64-4cb7-ff9f-bdbe56348e91"
      },
      "source": [
        "#---------------------------------\n",
        "# Train and evaluate \n",
        "#---------------------------------\n",
        "if from_scratch == 1:\n",
        "  trainer.train()\n",
        "results = trainer.evaluate()\n",
        "for key, value in results.items():\n",
        "  print(\"Key: \", key, \" Value: \", value)\n",
        "\n",
        "wandb_inst.finish()"
      ],
      "execution_count": null,
      "outputs": [
        {
          "output_type": "stream",
          "name": "stderr",
          "text": [
            "***** Running Evaluation *****\n",
            "  Num examples = 540\n",
            "  Batch size = 4\n"
          ]
        },
        {
          "output_type": "display_data",
          "data": {
            "text/html": [
              "\n",
              "    <div>\n",
              "      \n",
              "      <progress value='135' max='135' style='width:300px; height:20px; vertical-align: middle;'></progress>\n",
              "      [135/135 02:10]\n",
              "    </div>\n",
              "    "
            ],
            "text/plain": [
              "<IPython.core.display.HTML object>"
            ]
          },
          "metadata": {}
        },
        {
          "output_type": "stream",
          "name": "stderr",
          "text": [
            "Automatic Weights & Biases logging enabled, to disable set os.environ[\"WANDB_DISABLED\"] = \"true\"\n"
          ]
        },
        {
          "output_type": "stream",
          "name": "stdout",
          "text": [
            "Key:  eval_loss  Value:  3.6606717109680176\n",
            "Key:  eval_rouge1  Value:  36.94819\n",
            "Key:  eval_rouge2  Value:  17.2156\n",
            "Key:  eval_rouge3  Value:  10.31946\n",
            "Key:  eval_rougeL  Value:  27.27825\n",
            "Key:  eval_rougeLsum  Value:  34.14828\n",
            "Key:  eval_gen_len  Value:  43.55741\n",
            "Key:  eval_runtime  Value:  134.9688\n",
            "Key:  eval_samples_per_second  Value:  4.001\n",
            "Key:  eval_steps_per_second  Value:  1.0\n"
          ]
        },
        {
          "output_type": "display_data",
          "data": {
            "text/html": [
              "<br/>Waiting for W&B process to finish, PID 908... <strong style=\"color:green\">(success).</strong>"
            ],
            "text/plain": [
              "<IPython.core.display.HTML object>"
            ]
          },
          "metadata": {}
        },
        {
          "output_type": "display_data",
          "data": {
            "application/vnd.jupyter.widget-view+json": {
              "model_id": "e739f8b8ae94471c84955824218af185",
              "version_minor": 0,
              "version_major": 2
            },
            "text/plain": [
              "VBox(children=(Label(value=' 0.00MB of 0.00MB uploaded (0.00MB deduped)\\r'), FloatProgress(value=1.0, max=1.0)…"
            ]
          },
          "metadata": {}
        },
        {
          "output_type": "display_data",
          "data": {
            "text/html": [
              "<style>\n",
              "    table.wandb td:nth-child(1) { padding: 0 10px; text-align: right }\n",
              "    .wandb-row { display: flex; flex-direction: row; flex-wrap: wrap; width: 100% }\n",
              "    .wandb-col { display: flex; flex-direction: column; flex-basis: 100%; flex: 1; padding: 10px; }\n",
              "    </style>\n",
              "<div class=\"wandb-row\"><div class=\"wandb-col\">\n",
              "<h3>Run history:</h3><br/><table class=\"wandb\"><tr><td>eval/gen_len</td><td>▁</td></tr><tr><td>eval/loss</td><td>▁</td></tr><tr><td>eval/rouge1</td><td>▁</td></tr><tr><td>eval/rouge2</td><td>▁</td></tr><tr><td>eval/rouge3</td><td>▁</td></tr><tr><td>eval/rougeL</td><td>▁</td></tr><tr><td>eval/rougeLsum</td><td>▁</td></tr><tr><td>eval/runtime</td><td>▁</td></tr><tr><td>eval/samples_per_second</td><td>▁</td></tr><tr><td>eval/steps_per_second</td><td>▁</td></tr><tr><td>train/global_step</td><td>▁</td></tr></table><br/></div><div class=\"wandb-col\">\n",
              "<h3>Run summary:</h3><br/><table class=\"wandb\"><tr><td>eval/gen_len</td><td>43.55741</td></tr><tr><td>eval/loss</td><td>3.66067</td></tr><tr><td>eval/rouge1</td><td>36.94819</td></tr><tr><td>eval/rouge2</td><td>17.2156</td></tr><tr><td>eval/rouge3</td><td>10.31946</td></tr><tr><td>eval/rougeL</td><td>27.27825</td></tr><tr><td>eval/rougeLsum</td><td>34.14828</td></tr><tr><td>eval/runtime</td><td>134.9688</td></tr><tr><td>eval/samples_per_second</td><td>4.001</td></tr><tr><td>eval/steps_per_second</td><td>1.0</td></tr><tr><td>train/global_step</td><td>0</td></tr></table>\n",
              "</div></div>\n",
              "Synced 5 W&B file(s), 0 media file(s), 0 artifact file(s) and 0 other file(s)\n",
              "<br/>Synced <strong style=\"color:#cdcd00\">absurd-meadow-10</strong>: <a href=\"https://wandb.ai/shielded97/bart_CNN_Dailymail/runs/3h4v5slz\" target=\"_blank\">https://wandb.ai/shielded97/bart_CNN_Dailymail/runs/3h4v5slz</a><br/>\n",
              "Find logs at: <code>./wandb/run-20211001_034855-3h4v5slz/logs</code><br/>\n"
            ],
            "text/plain": [
              "<IPython.core.display.HTML object>"
            ]
          },
          "metadata": {}
        }
      ]
    }
  ]
}